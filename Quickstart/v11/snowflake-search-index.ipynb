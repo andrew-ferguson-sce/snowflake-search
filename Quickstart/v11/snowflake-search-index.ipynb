{
 "cells": [
  {
   "cell_type": "code",
   "execution_count": 1,
   "id": "494acd8c-d6c8-49fa-8d9a-46289a5c38a6",
   "metadata": {},
   "outputs": [],
   "source": [
    "import os\n",
    "from azure.core.credentials import AzureKeyCredential\n",
    "from azure.search.documents.indexes import SearchIndexClient \n",
    "from azure.search.documents import SearchClient\n",
    "from azure.search.documents.indexes.models import (\n",
    "    ComplexField,\n",
    "    CorsOptions,\n",
    "    SearchIndex,\n",
    "    ScoringProfile,\n",
    "    SearchFieldDataType,\n",
    "    SimpleField,\n",
    "    SearchableField\n",
    ")"
   ]
  },
  {
   "cell_type": "code",
   "execution_count": 5,
   "id": "e08fc59a-e422-44d1-af55-b72be9e79b1e",
   "metadata": {},
   "outputs": [],
   "source": [
    "service_name = \"snowflake-search-service\"\n",
    "admin_key = \"gGdcNXgiHCwlU3Ifcrm2PRqtcs7ug3EvVmbVZnfuTfAzSeAF7mRp\"\n",
    "\n",
    "index_name = \"snowflake\"\n",
    "\n",
    "#SDK Client\n",
    "endpoint = \"https://{}.search.windows.net/\".format(service_name)\n",
    "admin_client = SearchIndexClient(endpoint=endpoint,\n",
    "                      index_name=index_name,\n",
    "                      credential=AzureKeyCredential(admin_key))\n",
    "\n",
    "search_client = SearchClient(endpoint=endpoint,\n",
    "                      index_name=index_name,\n",
    "                      credential=AzureKeyCredential(admin_key))"
   ]
  },
  {
   "cell_type": "code",
   "execution_count": 6,
   "id": "fbf011fe-ab3d-490c-95ce-88d4f9f7ac29",
   "metadata": {},
   "outputs": [
    {
     "name": "stdout",
     "output_type": "stream",
     "text": [
      "<urllib3.connection.HTTPSConnection object at 0x00000208DB8BE880>: Failed to establish a new connection: [WinError 10060] A connection attempt failed because the connected party did not properly respond after a period of time, or established connection failed because connected host has failed to respond\n"
     ]
    }
   ],
   "source": [
    "#Delete index it it exists:\n",
    "try:\n",
    "    result = admin_client.delete_index(index_name)\n",
    "    print ('Index', index_name, 'Deleted')\n",
    "except Exception as ex:\n",
    "    print (ex)"
   ]
  },
  {
   "cell_type": "code",
   "execution_count": 8,
   "id": "9c549178-8f61-4d7f-8942-e7fcd8dbde59",
   "metadata": {},
   "outputs": [],
   "source": [
    "#Create index\n",
    "name = index_name\n",
    "fields=[\n",
    "    #Do Snowflake tables have unique ID's? What can we use as a key?\n",
    "    SearchableField(name=\"TableName\", type=SearchFieldDataType.String, sortable=True),\n",
    "    SearchableField(name=\"Comment\", type=SearchFieldDataType.String, analyzer_name=\"en.lucene\")]\n",
    "    \n",
    "    #Let's discuss the different indexes that we'll need to configure to search through the metadata.\n",
    "    #Tag's might be a good metadata column to add because they can be included in the suggester\n",
    "\n",
    "cors_options = CorsOptions(allowed_origins=[\"*\"], max_age_in_seconds=60)\n",
    "scoring_profiles = []\n",
    "suggester = [{'name':'sg', 'source_fields': [\"Comment\"]}]  #\"Tags\""
   ]
  },
  {
   "cell_type": "code",
   "execution_count": 9,
   "id": "97a00543-2fde-4b54-9ddd-d15aa9bc23b7",
   "metadata": {},
   "outputs": [
    {
     "name": "stdout",
     "output_type": "stream",
     "text": [
      "<urllib3.connection.HTTPSConnection object at 0x00000208DB8BE6A0>: Failed to establish a new connection: [WinError 10060] A connection attempt failed because the connected party did not properly respond after a period of time, or established connection failed because connected host has failed to respond\n"
     ]
    }
   ],
   "source": [
    "index = SearchIndex(\n",
    "    name=name,\n",
    "    fields=fields,\n",
    "    scoring_profiles=scoring_profiles,\n",
    "    suggesters = suggester,\n",
    "    cors_options=cors_options)\n",
    "\n",
    "try:\n",
    "    result = admin_client.create_index(index)\n",
    "    print ('Index', result.name, 'created')\n",
    "except Exception as ex:\n",
    "    print (ex)"
   ]
  },
  {
   "cell_type": "markdown",
   "id": "06c7b39f-fb3e-4dc4-ac87-f3c8e6f0b9fc",
   "metadata": {},
   "source": [
    "### The next cell in the example notebook is a json document definition\n",
    "* I believe this is the step that I need to connect the search service to Snowflake using the Python module"
   ]
  },
  {
   "cell_type": "code",
   "execution_count": 10,
   "id": "7f944d4f-f125-4268-9598-4d7d2931911f",
   "metadata": {},
   "outputs": [
    {
     "name": "stderr",
     "output_type": "stream",
     "text": [
      "WARNING: Retrying (Retry(total=4, connect=None, read=None, redirect=None, status=None)) after connection broken by 'ConnectTimeoutError(<pip._vendor.urllib3.connection.HTTPSConnection object at 0x000001F45F8A5970>, 'Connection to pypi.org timed out. (connect timeout=15)')': /simple/snowflake-connector-python/\n",
      "WARNING: Retrying (Retry(total=3, connect=None, read=None, redirect=None, status=None)) after connection broken by 'ConnectTimeoutError(<pip._vendor.urllib3.connection.HTTPSConnection object at 0x000001F45F8A5670>, 'Connection to pypi.org timed out. (connect timeout=15)')': /simple/snowflake-connector-python/\n",
      "WARNING: Retrying (Retry(total=2, connect=None, read=None, redirect=None, status=None)) after connection broken by 'ConnectTimeoutError(<pip._vendor.urllib3.connection.HTTPSConnection object at 0x000001F45F8A5310>, 'Connection to pypi.org timed out. (connect timeout=15)')': /simple/snowflake-connector-python/\n",
      "WARNING: Retrying (Retry(total=1, connect=None, read=None, redirect=None, status=None)) after connection broken by 'ConnectTimeoutError(<pip._vendor.urllib3.connection.HTTPSConnection object at 0x000001F45F8B60A0>, 'Connection to pypi.org timed out. (connect timeout=15)')': /simple/snowflake-connector-python/\n",
      "WARNING: Retrying (Retry(total=0, connect=None, read=None, redirect=None, status=None)) after connection broken by 'ConnectTimeoutError(<pip._vendor.urllib3.connection.HTTPSConnection object at 0x000001F45F8B6370>, 'Connection to pypi.org timed out. (connect timeout=15)')': /simple/snowflake-connector-python/\n",
      "ERROR: Could not find a version that satisfies the requirement snowflake-connector-python (from versions: none)\n",
      "ERROR: No matching distribution found for snowflake-connector-python\n"
     ]
    }
   ],
   "source": [
    "!pip install snowflake-connector-python"
   ]
  },
  {
   "cell_type": "code",
   "execution_count": null,
   "id": "9dbcc152-c072-47fb-a38f-a4e2f0712248",
   "metadata": {},
   "outputs": [],
   "source": []
  }
 ],
 "metadata": {
  "kernelspec": {
   "display_name": "Python 3 (ipykernel)",
   "language": "python",
   "name": "python3"
  },
  "language_info": {
   "codemirror_mode": {
    "name": "ipython",
    "version": 3
   },
   "file_extension": ".py",
   "mimetype": "text/x-python",
   "name": "python",
   "nbconvert_exporter": "python",
   "pygments_lexer": "ipython3",
   "version": "3.9.12"
  }
 },
 "nbformat": 4,
 "nbformat_minor": 5
}
